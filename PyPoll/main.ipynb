{
 "cells": [
  {
   "cell_type": "code",
   "execution_count": 1,
   "id": "7a3a1bff-59e1-4dc8-b3c3-f33a0134fd25",
   "metadata": {
    "tags": []
   },
   "outputs": [
    {
     "name": "stdout",
     "output_type": "stream",
     "text": [
      "Election Results\n",
      "-------------------------\n",
      "Total Votes: 369711\n",
      "-------------------------\n",
      "Charles Casper Stockham: 23.049% (85213)\n",
      "Diana DeGette: 73.812% (272892)\n",
      "Raymon Anthony Doane: 3.139% (11606)\n",
      "-------------------------\n",
      "Winner: Diana DeGette\n",
      "-------------------------\n"
     ]
    }
   ],
   "source": [
    "import csv\n",
    "\n",
    "# Initialize variables\n",
    "total_votes = 0\n",
    "candidates = {}  # Dictionary to store candidate vote counts\n",
    "\n",
    "# Open the CSV file\n",
    "file_path = './Resources/election_data.csv'\n",
    "with open(file_path,'r') as csvfile:\n",
    "    csvreader = csv.reader(csvfile, delimiter=',')\n",
    "    \n",
    "    # Skip the header row\n",
    "    header = next(csvreader)\n",
    "    \n",
    "    # Loop through the data\n",
    "    for row in csvreader:\n",
    "        # Extract candidate name from the row\n",
    "        candidate_name = row[2]\n",
    "\n",
    "        # Update total votes\n",
    "        total_votes += 1\n",
    "\n",
    "        # Update candidate vote counts in the dictionary\n",
    "        if candidate_name in candidates:\n",
    "            candidates[candidate_name] += 1\n",
    "        else:\n",
    "            candidates[candidate_name] = 1\n",
    "\n",
    "# Determine the winner based on the popular vote\n",
    "winner = max(candidates, key=candidates.get)\n",
    "\n",
    "# Calculate and print the election results\n",
    "print(\"Election Results\")\n",
    "print(\"-------------------------\")\n",
    "print(f\"Total Votes: {total_votes}\")\n",
    "print(\"-------------------------\")\n",
    "\n",
    "# Calculate and print the results for each candidate\n",
    "for candidate, votes in candidates.items():\n",
    "    percentage = (votes / total_votes) * 100\n",
    "    print(f\"{candidate}: {percentage:.3f}% ({votes})\")\n",
    "\n",
    "print(\"-------------------------\")\n",
    "print(f\"Winner: {winner}\")\n",
    "print(\"-------------------------\")\n",
    "\n",
    "# Export the results to a text file\n",
    "with open('election_results.txt', 'w') as result_file:\n",
    "    result_file.write(\"Election Results\\n\")\n",
    "    result_file.write(\"-------------------------\\n\")\n",
    "    result_file.write(f\"Total Votes: {total_votes}\\n\")\n",
    "    result_file.write(\"-------------------------\\n\")\n",
    "    \n",
    "    for candidate, votes in candidates.items():\n",
    "        percentage = (votes / total_votes) * 100\n",
    "        result_file.write(f\"{candidate}: {percentage:.3f}% ({votes})\\n\")\n",
    "\n",
    "    result_file.write(\"-------------------------\\n\")\n",
    "    result_file.write(f\"Winner: {winner}\\n\")\n",
    "    result_file.write(\"-------------------------\\n\")\n"
   ]
  },
  {
   "cell_type": "code",
   "execution_count": null,
   "id": "a5b99392-62c4-4245-a4ff-66cb4021306b",
   "metadata": {},
   "outputs": [],
   "source": []
  }
 ],
 "metadata": {
  "kernelspec": {
   "display_name": "Python 3 (ipykernel)",
   "language": "python",
   "name": "python3"
  },
  "language_info": {
   "codemirror_mode": {
    "name": "ipython",
    "version": 3
   },
   "file_extension": ".py",
   "mimetype": "text/x-python",
   "name": "python",
   "nbconvert_exporter": "python",
   "pygments_lexer": "ipython3",
   "version": "3.11.4"
  }
 },
 "nbformat": 4,
 "nbformat_minor": 5
}
